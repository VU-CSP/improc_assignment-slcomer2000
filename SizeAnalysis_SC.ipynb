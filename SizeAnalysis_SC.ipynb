{
 "cells": [
  {
   "cell_type": "markdown",
   "metadata": {
    "id": "uM3giKLgbwgF"
   },
   "source": [
    "# Analysis of the particle sizes from segmentation output\n",
    "You should have an output file named `Results.csv` from FIJI/ImageJ segmentation. If you are using Google Colab to run this code, you will need to upload the file manually to Google using the `File` menu to the left.  "
   ]
  },
  {
   "cell_type": "code",
   "execution_count": 1,
   "metadata": {
    "id": "GTIhuJXYbva8"
   },
   "outputs": [],
   "source": [
    "import pandas as pd\n",
    "import numpy as np\n",
    "import seaborn as sns"
   ]
  },
  {
   "cell_type": "markdown",
   "metadata": {
    "id": "mBObqOWmh2Zf"
   },
   "source": [
    "Write code below to read the `Results.csv` file as a pandas DataFrame and store it in the object named `measurements`. Show the head of the DataFrame."
   ]
  },
  {
   "cell_type": "code",
   "execution_count": 2,
   "metadata": {
    "id": "DaYDPgcogyxz"
   },
   "outputs": [
    {
     "data": {
      "text/html": [
       "<div>\n",
       "<style scoped>\n",
       "    .dataframe tbody tr th:only-of-type {\n",
       "        vertical-align: middle;\n",
       "    }\n",
       "\n",
       "    .dataframe tbody tr th {\n",
       "        vertical-align: top;\n",
       "    }\n",
       "\n",
       "    .dataframe thead th {\n",
       "        text-align: right;\n",
       "    }\n",
       "</style>\n",
       "<table border=\"1\" class=\"dataframe\">\n",
       "  <thead>\n",
       "    <tr style=\"text-align: right;\">\n",
       "      <th></th>\n",
       "      <th></th>\n",
       "      <th>Area</th>\n",
       "      <th>Mean</th>\n",
       "      <th>IntDen</th>\n",
       "      <th>%Area</th>\n",
       "      <th>RawIntDen</th>\n",
       "    </tr>\n",
       "  </thead>\n",
       "  <tbody>\n",
       "    <tr>\n",
       "      <th>0</th>\n",
       "      <td>1</td>\n",
       "      <td>476</td>\n",
       "      <td>255</td>\n",
       "      <td>121380</td>\n",
       "      <td>100</td>\n",
       "      <td>121380</td>\n",
       "    </tr>\n",
       "    <tr>\n",
       "      <th>1</th>\n",
       "      <td>2</td>\n",
       "      <td>405</td>\n",
       "      <td>255</td>\n",
       "      <td>103275</td>\n",
       "      <td>100</td>\n",
       "      <td>103275</td>\n",
       "    </tr>\n",
       "    <tr>\n",
       "      <th>2</th>\n",
       "      <td>3</td>\n",
       "      <td>363</td>\n",
       "      <td>255</td>\n",
       "      <td>92565</td>\n",
       "      <td>100</td>\n",
       "      <td>92565</td>\n",
       "    </tr>\n",
       "    <tr>\n",
       "      <th>3</th>\n",
       "      <td>4</td>\n",
       "      <td>377</td>\n",
       "      <td>255</td>\n",
       "      <td>96135</td>\n",
       "      <td>100</td>\n",
       "      <td>96135</td>\n",
       "    </tr>\n",
       "    <tr>\n",
       "      <th>4</th>\n",
       "      <td>5</td>\n",
       "      <td>225</td>\n",
       "      <td>255</td>\n",
       "      <td>57375</td>\n",
       "      <td>100</td>\n",
       "      <td>57375</td>\n",
       "    </tr>\n",
       "  </tbody>\n",
       "</table>\n",
       "</div>"
      ],
      "text/plain": [
       "      Area  Mean  IntDen  %Area  RawIntDen\n",
       "0  1   476   255  121380    100     121380\n",
       "1  2   405   255  103275    100     103275\n",
       "2  3   363   255   92565    100      92565\n",
       "3  4   377   255   96135    100      96135\n",
       "4  5   225   255   57375    100      57375"
      ]
     },
     "execution_count": 2,
     "metadata": {},
     "output_type": "execute_result"
    }
   ],
   "source": [
    "# Code to read Results and show head\n",
    "measurements = pd.read_csv('Results.csv')\n",
    "measurements.head()"
   ]
  },
  {
   "cell_type": "code",
   "execution_count": 3,
   "metadata": {},
   "outputs": [],
   "source": [
    "sns.set_context(\"notebook\", font_scale=1.5, rc={\"lines.linewidth\": 2.5})"
   ]
  },
  {
   "cell_type": "code",
   "execution_count": 4,
   "metadata": {
    "id": "Mz-INH79g5Ks"
   },
   "outputs": [
    {
     "data": {
      "text/plain": [
       "<AxesSubplot:xlabel='Area', ylabel='Count'>"
      ]
     },
     "execution_count": 4,
     "metadata": {},
     "output_type": "execute_result"
    },
    {
     "data": {
      "image/png": "[encoded data removed]",
      "text/plain": [
       "<Figure size 432x288 with 1 Axes>"
      ]
     },
     "metadata": {
      "needs_background": "light"
     },
     "output_type": "display_data"
    }
   ],
   "source": [
    "# Code to plot a histogram of the Area\n",
    "sns.histplot(data= measurements, x='Area')"
   ]
  },
  {
   "cell_type": "markdown",
   "metadata": {
    "id": "ZtcMHckuiydC"
   },
   "source": [
    "Calculate the mean and the standard deviation of the distribution and show them below. (HINT: pandas can do this easily)"
   ]
  },
  {
   "cell_type": "code",
   "execution_count": 5,
   "metadata": {
    "id": "T9lYcgiBhxUE"
   },
   "outputs": [
    {
     "data": {
      "text/plain": [
       "337.721629485936"
      ]
     },
     "execution_count": 5,
     "metadata": {},
     "output_type": "execute_result"
    }
   ],
   "source": [
    "# Calculate mean\n",
    "measurements['Area'].mean()"
   ]
  },
  {
   "cell_type": "code",
   "execution_count": 6,
   "metadata": {
    "id": "UEgg0XZdi_76"
   },
   "outputs": [
    {
     "data": {
      "text/plain": [
       "132.67911591418405"
      ]
     },
     "execution_count": 6,
     "metadata": {},
     "output_type": "execute_result"
    }
   ],
   "source": [
    "# Calculate standard deviation\n",
    "measurements['Area'].std()"
   ]
  },
  {
   "cell_type": "markdown",
   "metadata": {
    "id": "pE62XfF4kgwJ"
   },
   "source": [
    "#### Describe your interpretation of the distribution of the measurements of nuclear area below. \n",
    "Based on what you see, would you choose different value ranges of particle sizes for counting? Explain why.\n",
    "Since the average area is around 337, we could be more stringent with the particle size and count only those above 337 pixels^2.  However, while the average area is around 337, the standard deviation is pretty high, suggesting that a wide range of area values exist.  Therefore, it would be beneficial to have a range that covers at least one standard deviation below the average to account for possible variation. "
   ]
  },
  {
   "cell_type": "markdown",
   "metadata": {},
   "source": []
  },
  {
   "cell_type": "code",
   "execution_count": null,
   "metadata": {},
   "outputs": [],
   "source": []
  }
 ],
 "metadata": {
  "colab": {
   "authorship_tag": "ABX9TyObmlPj4IhDlnaGbqdKLDog",
   "include_colab_link": true,
   "private_outputs": true,
   "provenance": []
  },
  "kernelspec": {
   "display_name": "Python 3 (ipykernel)",
   "language": "python",
   "name": "python3"
  },
  "language_info": {
   "codemirror_mode": {
    "name": "ipython",
    "version": 3
   },
   "file_extension": ".py",
   "mimetype": "text/x-python",
   "name": "python",
   "nbconvert_exporter": "python",
   "pygments_lexer": "ipython3",
   "version": "3.9.12"
  }
 },
 "nbformat": 4,
 "nbformat_minor": 1
}
